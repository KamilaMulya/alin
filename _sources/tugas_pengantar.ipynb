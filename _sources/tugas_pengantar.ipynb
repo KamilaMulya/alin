{
 "cells": [
  {
   "cell_type": "markdown",
   "metadata": {},
   "source": [
    "# Pengantar Tugas"
   ]
  },
  {
   "cell_type": "markdown",
   "metadata": {},
   "source": [
    "Berikut adalah link tugas video : \n",
    "\n",
    "[Tugas Video](https://youtu.be/PBmeWXt0-6o?si=bYkrxj3w1ZwK7I4W)"
   ]
  }
 ],
 "metadata": {
  "language_info": {
   "name": "python"
  }
 },
 "nbformat": 4,
 "nbformat_minor": 2
}
