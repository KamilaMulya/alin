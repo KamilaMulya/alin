{
 "cells": [
  {
   "cell_type": "markdown",
   "metadata": {},
   "source": [
    "# TUGAS 3"
   ]
  },
  {
   "cell_type": "markdown",
   "metadata": {},
   "source": [
    "## **Catatan Kelas**"
   ]
  },
  {
   "cell_type": "code",
   "execution_count": 16,
   "metadata": {},
   "outputs": [
    {
     "name": "stdout",
     "output_type": "stream",
     "text": [
      "[[ 2 -3  4]\n",
      " [-1 -2  1]\n",
      " [ 4 -5  7]]\n",
      "[[-2  1 -6]\n",
      " [ 4 -3  9]]\n"
     ]
    }
   ],
   "source": [
    "import numpy as np\n",
    "A = np.array([[1,3,-2],[2,4,-1],[3,-6,8]])\n",
    "B = np.array([[2,-3,4],[-1,-2,1],[4,-5,7]])\n",
    "C = np.array([[-2,1,-6],[4,-3,9]])\n",
    "D = np.array([[2,8,2],[-4,5,6],[7,-3,1]])\n",
    "print(B)\n",
    "print(C)"
   ]
  },
  {
   "cell_type": "code",
   "execution_count": 17,
   "metadata": {},
   "outputs": [
    {
     "name": "stdout",
     "output_type": "stream",
     "text": [
      "[[1 8 4]\n",
      " [5 7 9]\n",
      " [4 3 7]]\n"
     ]
    }
   ],
   "source": [
    "# Cara buat matrix dengan cepat menggunakan bilangan yang random\n",
    "\n",
    "AAA = np.random.randint(10,size=(3,3))\n",
    "print(AAA)"
   ]
  },
  {
   "cell_type": "markdown",
   "metadata": {},
   "source": [
    "### *Operasi-operasi Matrik*\n",
    "1. Matriks dalam bentuk apapun dapat dikalikan dengan skalar *c, d*."
   ]
  },
  {
   "cell_type": "code",
   "execution_count": 18,
   "metadata": {},
   "outputs": [
    {
     "name": "stdout",
     "output_type": "stream",
     "text": [
      "e = 6\n",
      "G = [[  6  18 -12]\n",
      " [ 12  24  -6]\n",
      " [ 18 -36  48]]\n",
      "H = [[  6  18 -12]\n",
      " [ 12  24  -6]\n",
      " [ 18 -36  48]]\n"
     ]
    }
   ],
   "source": [
    "c = 2\n",
    "d = 4\n",
    "e = c + d\n",
    "G = (c+d)*A\n",
    "H = (c*A) + (d*A)\n",
    "print('e =', e)\n",
    "print('G =', G)\n",
    "print('H =', H)"
   ]
  },
  {
   "cell_type": "markdown",
   "metadata": {},
   "source": [
    "2. Matriks yang ukurannya sama bisa dijumlahkan. Hasilnya adalah semua elemen yang bersesuaian dan ditambah dalam bentuk."
   ]
  },
  {
   "cell_type": "code",
   "execution_count": 19,
   "metadata": {},
   "outputs": [
    {
     "name": "stdout",
     "output_type": "stream",
     "text": [
      "K = [[  3   0   2]\n",
      " [  1   2   0]\n",
      " [  7 -11  15]]\n"
     ]
    }
   ],
   "source": [
    "K = A + B\n",
    "#L = A + C\n",
    "print('K =', K)\n",
    "#print('L =', L)"
   ]
  },
  {
   "cell_type": "markdown",
   "metadata": {},
   "source": [
    "3. Jika banyaknya kolom dari matrix ***A*** adalah sama dengan banyaknya baris matrik ***B***, maka kedua matrik dapat dikalikan dalam bentuk perkalian ***A,B***. Dengan jumlah baris yang mengikuti matriks A dan kolom mengikuti matriks B."
   ]
  },
  {
   "cell_type": "code",
   "execution_count": 20,
   "metadata": {},
   "outputs": [
    {
     "name": "stdout",
     "output_type": "stream",
     "text": [
      "(2, 3)\n",
      "2\n",
      "3\n"
     ]
    }
   ],
   "source": [
    "#Cara menentukan ukuran matriks:\n",
    "#  namamatriks.shape\n",
    "print(C.shape)\n",
    "\n",
    "#Cara menentukan jumlah baris:\n",
    "#  namamatriks.shape[0]\n",
    "print(C.shape[0])\n",
    "\n",
    "#Cara menentukan jumlah kolom:\n",
    "#  namamatriks.shape[1]\n",
    "print(C.shape[1])"
   ]
  },
  {
   "cell_type": "code",
   "execution_count": 21,
   "metadata": {},
   "outputs": [
    {
     "name": "stdout",
     "output_type": "stream",
     "text": [
      "[[ 2 -9 -8]\n",
      " [-2 -8 -1]\n",
      " [12 30 56]]\n"
     ]
    }
   ],
   "source": [
    "print(A*B)"
   ]
  },
  {
   "cell_type": "code",
   "execution_count": 22,
   "metadata": {},
   "outputs": [
    {
     "name": "stdout",
     "output_type": "stream",
     "text": [
      "[[ -9   1  -7]\n",
      " [ -4  -9   5]\n",
      " [ 44 -37  62]]\n"
     ]
    }
   ],
   "source": [
    "print(A@B)"
   ]
  },
  {
   "cell_type": "code",
   "execution_count": 23,
   "metadata": {},
   "outputs": [
    {
     "ename": "ValueError",
     "evalue": "matmul: Input operand 1 has a mismatch in its core dimension 0, with gufunc signature (n?,k),(k,m?)->(n?,m?) (size 2 is different from 3)",
     "output_type": "error",
     "traceback": [
      "\u001b[0;31m---------------------------------------------------------------------------\u001b[0m",
      "\u001b[0;31mValueError\u001b[0m                                Traceback (most recent call last)",
      "Cell \u001b[0;32mIn[23], line 1\u001b[0m\n\u001b[0;32m----> 1\u001b[0m \u001b[38;5;28mprint\u001b[39m(\u001b[43mA\u001b[49m\u001b[38;5;129;43m@C\u001b[39;49m)\n\u001b[1;32m      2\u001b[0m \u001b[38;5;66;03m# Tidak bisa dioperasikan karena jumlah kolom A tidak sama dengan jumlah baris C. Sehingga terjadi error\u001b[39;00m\n",
      "\u001b[0;31mValueError\u001b[0m: matmul: Input operand 1 has a mismatch in its core dimension 0, with gufunc signature (n?,k),(k,m?)->(n?,m?) (size 2 is different from 3)"
     ]
    }
   ],
   "source": [
    "print(A@C)\n",
    "# Tidak bisa dioperasikan karena jumlah kolom A tidak sama dengan jumlah baris C. Sehingga terjadi error"
   ]
  },
  {
   "cell_type": "code",
   "execution_count": 26,
   "metadata": {},
   "outputs": [],
   "source": [
    "import sympy as sy\n",
    "a, b, c, d, e, f, g, h, i, j, k, l, m, n, o, p, q, r, s, t, u, v, w, x, y, z =\\\n",
    "sy.symbols('a, b, c, d, e, f, g, h, i, j, k, l, m, n, o, p, q, r, s, t, u, v, w, x, y, z', real=True)"
   ]
  },
  {
   "cell_type": "code",
   "execution_count": 27,
   "metadata": {},
   "outputs": [
    {
     "data": {
      "text/latex": [
       "$\\displaystyle \\left[\\begin{matrix}2 a & 2 b & 2 c\\\\2 d & 2 e & 2 f\\end{matrix}\\right]$"
      ],
      "text/plain": [
       "Matrix([\n",
       "[2*a, 2*b, 2*c],\n",
       "[2*d, 2*e, 2*f]])"
      ]
     },
     "execution_count": 27,
     "metadata": {},
     "output_type": "execute_result"
    }
   ],
   "source": [
    "AA = sy.Matrix([[a, b, c], [d, e, f]])\n",
    "AA + AA"
   ]
  },
  {
   "cell_type": "markdown",
   "metadata": {},
   "source": [
    "### *Matriks Transpose*\n",
    "\n",
    "(Baris jadi kolom, dan sebaliknya)\n",
    "\n",
    "lambang transpose matriks A adalah $A^T$\n",
    "\n",
    "note : Matriks Covarian adalah matriks awal dikali matriks transposenya."
   ]
  },
  {
   "cell_type": "code",
   "execution_count": null,
   "metadata": {},
   "outputs": [
    {
     "name": "stdout",
     "output_type": "stream",
     "text": [
      "[[ 1  3 -2]\n",
      " [ 2  4 -1]\n",
      " [ 3 -6  8]]\n",
      " \n",
      "[[ 1  2  3]\n",
      " [ 3  4 -6]\n",
      " [-2 -1  8]]\n"
     ]
    }
   ],
   "source": [
    "A_T = A.transpose()\n",
    "print(A)\n",
    "print(\" \")\n",
    "print(A_T)"
   ]
  },
  {
   "cell_type": "code",
   "execution_count": null,
   "metadata": {},
   "outputs": [
    {
     "ename": "ValueError",
     "evalue": "operands could not be broadcast together with shapes (2,3) (3,2) ",
     "output_type": "error",
     "traceback": [
      "\u001b[0;31m---------------------------------------------------------------------------\u001b[0m",
      "\u001b[0;31mValueError\u001b[0m                                Traceback (most recent call last)",
      "Cell \u001b[0;32mIn[10], line 2\u001b[0m\n\u001b[1;32m      1\u001b[0m C_T \u001b[38;5;241m=\u001b[39m C\u001b[38;5;241m.\u001b[39mtranspose()\n\u001b[0;32m----> 2\u001b[0m CoV \u001b[38;5;241m=\u001b[39m \u001b[43mC\u001b[49m\u001b[38;5;241;43m*\u001b[39;49m\u001b[43mC_T\u001b[49m\n\u001b[1;32m      3\u001b[0m \u001b[38;5;28mprint\u001b[39m(CoV\u001b[38;5;241m.\u001b[39mshape)\n",
      "\u001b[0;31mValueError\u001b[0m: operands could not be broadcast together with shapes (2,3) (3,2) "
     ]
    }
   ],
   "source": [
    "C_T = C.transpose()\n",
    "CoV = C*C_T\n",
    "print(CoV.shape)"
   ]
  },
  {
   "cell_type": "code",
   "execution_count": null,
   "metadata": {},
   "outputs": [
    {
     "name": "stdout",
     "output_type": "stream",
     "text": [
      "[[10  3 -2]\n",
      " [ 2  4 -1]\n",
      " [ 3 -6  8]]\n",
      " \n",
      "[[10  2  3]\n",
      " [ 3  4 -6]\n",
      " [-2 -1  8]]\n"
     ]
    }
   ],
   "source": [
    "A = np.array([[10,3,-2],[2,4,-1],[3,-6,8]])\n",
    "print(A)\n",
    "print(\" \")\n",
    "\n",
    "A_T = A.transpose()\n",
    "print(A_T)"
   ]
  },
  {
   "cell_type": "code",
   "execution_count": null,
   "metadata": {},
   "outputs": [
    {
     "name": "stdout",
     "output_type": "stream",
     "text": [
      "[[  4 -72 -16]\n",
      " [  8 -40  -6]\n",
      " [ 84 -90  56]]\n",
      " \n",
      "[[  4   8  84]\n",
      " [-72 -40 -90]\n",
      " [-16  -6  56]]\n",
      " \n",
      " \n",
      "[[  4   8  84]\n",
      " [-72 -40 -90]\n",
      " [-16  -6  56]]\n",
      " \n",
      " \n",
      "[[ 6 -4 49]\n",
      " [ 0 10 33]\n",
      " [ 4  0 15]]\n",
      " \n",
      " \n"
     ]
    },
    {
     "ename": "ValueError",
     "evalue": "operands could not be broadcast together with shapes (3,3) (2,3) ",
     "output_type": "error",
     "traceback": [
      "\u001b[0;31m---------------------------------------------------------------------------\u001b[0m",
      "\u001b[0;31mValueError\u001b[0m                                Traceback (most recent call last)",
      "Cell \u001b[0;32mIn[12], line 24\u001b[0m\n\u001b[1;32m     22\u001b[0m \u001b[38;5;28mprint\u001b[39m(\u001b[38;5;124m\"\u001b[39m\u001b[38;5;124m \u001b[39m\u001b[38;5;124m\"\u001b[39m)\n\u001b[1;32m     23\u001b[0m \u001b[38;5;28mprint\u001b[39m(\u001b[38;5;124m\"\u001b[39m\u001b[38;5;124m \u001b[39m\u001b[38;5;124m\"\u001b[39m)\n\u001b[0;32m---> 24\u001b[0m abc \u001b[38;5;241m=\u001b[39m \u001b[43m(\u001b[49m\u001b[43mA\u001b[49m\u001b[38;5;241;43m+\u001b[39;49m\u001b[43mB\u001b[49m\u001b[43m)\u001b[49m\u001b[38;5;241;43m*\u001b[39;49m\u001b[43mC\u001b[49m\n\u001b[1;32m     25\u001b[0m ABC \u001b[38;5;241m=\u001b[39m abc\u001b[38;5;241m.\u001b[39mtranspose()\n\u001b[1;32m     26\u001b[0m \u001b[38;5;28mprint\u001b[39m(ABC)\n",
      "\u001b[0;31mValueError\u001b[0m: operands could not be broadcast together with shapes (3,3) (2,3) "
     ]
    }
   ],
   "source": [
    "import numpy as np\n",
    "A = np.array([[1,3,-2],[2,4,-1],[3,-6,8]])\n",
    "B = np.array([[2,-3,4],[-1,-2,1],[4,-5,7]])\n",
    "C = np.array([[-2,1,-6],[4,-3,9]])\n",
    "D = np.array([[2,8,2],[-4,5,6],[7,-3,1]])\n",
    "t = A*B*D\n",
    "print(t)\n",
    "print(\" \")\n",
    "tt = t.transpose()\n",
    "print(tt)\n",
    "print(\" \")\n",
    "print(\" \")\n",
    "a = A.transpose()\n",
    "b = B.transpose()\n",
    "dd = D.transpose()\n",
    "print(a*b*dd)\n",
    "print(\" \")\n",
    "print(\" \")\n",
    "abd = (A+B)*D\n",
    "ABD = abd.transpose()\n",
    "print(ABD)\n",
    "print(\" \")\n",
    "print(\" \")\n",
    "abc = (A+B)*C\n",
    "ABC = abc.transpose()\n",
    "print(ABC)"
   ]
  },
  {
   "cell_type": "markdown",
   "metadata": {},
   "source": [
    "### *Matriks Elementer*\n",
    "\n",
    "Matriks elementer adalah matriks yang dapat diperoleh dari satu operasi baris elementer pada suatu matriks identitas."
   ]
  },
  {
   "cell_type": "code",
   "execution_count": 34,
   "metadata": {},
   "outputs": [
    {
     "data": {
      "text/latex": [
       "$\\displaystyle \\left[\\begin{matrix}0 & 75 & 0\\\\4 & 78 & 6\\\\87 & 7 & 3\\end{matrix}\\right]$"
      ],
      "text/plain": [
       "Matrix([\n",
       "[ 0, 75, 0],\n",
       "[ 4, 78, 6],\n",
       "[87,  7, 3]])"
      ]
     },
     "execution_count": 34,
     "metadata": {},
     "output_type": "execute_result"
    }
   ],
   "source": [
    "Aa = sy.randMatrix(3, percent=80); Aa"
   ]
  },
  {
   "cell_type": "code",
   "execution_count": 28,
   "metadata": {},
   "outputs": [
    {
     "data": {
      "text/latex": [
       "$\\displaystyle \\left[\\begin{matrix}0 & 1 & 0\\\\1 & 0 & 0\\\\0 & 0 & 1\\end{matrix}\\right]$"
      ],
      "text/plain": [
       "Matrix([\n",
       "[0, 1, 0],\n",
       "[1, 0, 0],\n",
       "[0, 0, 1]])"
      ]
     },
     "execution_count": 28,
     "metadata": {},
     "output_type": "execute_result"
    }
   ],
   "source": [
    "E = sy.Matrix([[0,1,0],[1,0,0],[0,0,1]]);E"
   ]
  },
  {
   "cell_type": "code",
   "execution_count": 29,
   "metadata": {},
   "outputs": [
    {
     "data": {
      "text/latex": [
       "$\\displaystyle \\left[\\begin{matrix}2 & 4 & -1\\\\1 & 3 & -2\\\\3 & -6 & 8\\end{matrix}\\right]$"
      ],
      "text/plain": [
       "Matrix([\n",
       "[2,  4, -1],\n",
       "[1,  3, -2],\n",
       "[3, -6,  8]])"
      ]
     },
     "execution_count": 29,
     "metadata": {},
     "output_type": "execute_result"
    }
   ],
   "source": [
    "E*A"
   ]
  },
  {
   "cell_type": "markdown",
   "metadata": {},
   "source": [
    "## **Tugas Mengalikan Matriks dengan Kode**"
   ]
  },
  {
   "cell_type": "code",
   "execution_count": 36,
   "metadata": {},
   "outputs": [
    {
     "name": "stdout",
     "output_type": "stream",
     "text": [
      "Hasil perkalian matriks A dengan matriks B:\n",
      "[[ -9   1  -7]\n",
      " [ -4  -9   5]\n",
      " [ 44 -37  62]]\n",
      "\n",
      "Hasil perkalian matriks A dengan matriks B, lalu dikalikan dengan matriks C:\n",
      "[[ 33 -68]\n",
      " [ 47   5]\n",
      " [-52 454]]\n",
      "\n",
      "Hasil perkalian matriks A dengan matriks D:\n",
      "[[-24  29  18]\n",
      " [-19  39  27]\n",
      " [ 86 -30 -22]]\n",
      "\n",
      "Hasil perkalian matriks A dan B, lalu hasilnya dikalikan dengan matriks D:\n",
      "[[-71 -46 -19]\n",
      " [ 63 -92 -57]\n",
      " [670 -19 -72]]\n",
      "\n",
      "Hasil alternatif perkalian matriks A dengan matriks B, lalu dikalikan dengan matriks D:\n",
      "[[-71 -46 -19]\n",
      " [ 63 -92 -57]\n",
      " [670 -19 -72]]\n"
     ]
    }
   ],
   "source": [
    "import numpy as np\n",
    "\n",
    "A = np.array([[1,3,-2],[2,4,-1],[3,-6,8]])\n",
    "B = np.array([[2,-3,4],[-1,-2,1],[4,-5,7]])\n",
    "C = np.array([[-2,1],[-6,4],[-3,9]])\n",
    "D = np.array([[2,8,2],[-4,5,6],[7,-3,1]])\n",
    "\n",
    "# Mengalikan matriks A dengan matriks B\n",
    "AB = np.dot(A, B)\n",
    "\n",
    "# Mengalikan matriks AB dengan matriks C\n",
    "ABC = np.dot(AB, C)\n",
    "\n",
    "# Mengalikan matriks A dengan matriks D\n",
    "AD = np.dot(A, D)\n",
    "\n",
    "# Mengalikan matriks AB dengan matriks D\n",
    "ABD = np.dot(AB, D)\n",
    "\n",
    "# Mengalikan matriks A dengan matriks B, lalu hasilnya dikalikan dengan matriks D\n",
    "ABD_alt = np.dot(A, np.dot(B, D))\n",
    "\n",
    "# Menampilkan hasil\n",
    "print(\"Hasil perkalian matriks A dengan matriks B:\")\n",
    "print(AB)\n",
    "print(\"\\nHasil perkalian matriks A dengan matriks B, lalu dikalikan dengan matriks C:\")\n",
    "print(ABC)\n",
    "print(\"\\nHasil perkalian matriks A dengan matriks D:\")\n",
    "print(AD)\n",
    "print(\"\\nHasil perkalian matriks A dan B, lalu hasilnya dikalikan dengan matriks D:\")\n",
    "print(ABD)\n",
    "print(\"\\nHasil alternatif perkalian matriks A dengan matriks B, lalu dikalikan dengan matriks D:\")\n",
    "print(ABD_alt)"
   ]
  }
 ],
 "metadata": {
  "kernelspec": {
   "display_name": "Python 3",
   "language": "python",
   "name": "python3"
  },
  "language_info": {
   "codemirror_mode": {
    "name": "ipython",
    "version": 3
   },
   "file_extension": ".py",
   "mimetype": "text/x-python",
   "name": "python",
   "nbconvert_exporter": "python",
   "pygments_lexer": "ipython3",
   "version": "3.10.13"
  }
 },
 "nbformat": 4,
 "nbformat_minor": 2
}
